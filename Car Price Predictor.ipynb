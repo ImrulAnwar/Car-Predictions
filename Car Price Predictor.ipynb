{
 "cells": [
  {
   "cell_type": "markdown",
   "id": "acd1b939",
   "metadata": {},
   "source": [
    "### Read the csv file as a dataframe object and check the data"
   ]
  },
  {
   "cell_type": "code",
   "execution_count": 1,
   "id": "e5087f1e",
   "metadata": {},
   "outputs": [],
   "source": [
    "import pandas as pd\n",
    "df = pd.read_csv('car data.csv')"
   ]
  },
  {
   "cell_type": "code",
   "execution_count": 2,
   "id": "e57a1068",
   "metadata": {},
   "outputs": [
    {
     "data": {
      "text/html": [
       "<div>\n",
       "<style scoped>\n",
       "    .dataframe tbody tr th:only-of-type {\n",
       "        vertical-align: middle;\n",
       "    }\n",
       "\n",
       "    .dataframe tbody tr th {\n",
       "        vertical-align: top;\n",
       "    }\n",
       "\n",
       "    .dataframe thead th {\n",
       "        text-align: right;\n",
       "    }\n",
       "</style>\n",
       "<table border=\"1\" class=\"dataframe\">\n",
       "  <thead>\n",
       "    <tr style=\"text-align: right;\">\n",
       "      <th></th>\n",
       "      <th>name</th>\n",
       "      <th>year</th>\n",
       "      <th>selling_price</th>\n",
       "      <th>km_driven</th>\n",
       "      <th>fuel</th>\n",
       "      <th>seller_type</th>\n",
       "      <th>transmission</th>\n",
       "      <th>owner</th>\n",
       "    </tr>\n",
       "  </thead>\n",
       "  <tbody>\n",
       "    <tr>\n",
       "      <th>0</th>\n",
       "      <td>Maruti 800 AC</td>\n",
       "      <td>2007</td>\n",
       "      <td>60000</td>\n",
       "      <td>70000</td>\n",
       "      <td>Petrol</td>\n",
       "      <td>Individual</td>\n",
       "      <td>Manual</td>\n",
       "      <td>First Owner</td>\n",
       "    </tr>\n",
       "    <tr>\n",
       "      <th>1</th>\n",
       "      <td>Maruti Wagon R LXI Minor</td>\n",
       "      <td>2007</td>\n",
       "      <td>135000</td>\n",
       "      <td>50000</td>\n",
       "      <td>Petrol</td>\n",
       "      <td>Individual</td>\n",
       "      <td>Manual</td>\n",
       "      <td>First Owner</td>\n",
       "    </tr>\n",
       "    <tr>\n",
       "      <th>2</th>\n",
       "      <td>Hyundai Verna 1.6 SX</td>\n",
       "      <td>2012</td>\n",
       "      <td>600000</td>\n",
       "      <td>100000</td>\n",
       "      <td>Diesel</td>\n",
       "      <td>Individual</td>\n",
       "      <td>Manual</td>\n",
       "      <td>First Owner</td>\n",
       "    </tr>\n",
       "    <tr>\n",
       "      <th>3</th>\n",
       "      <td>Datsun RediGO T Option</td>\n",
       "      <td>2017</td>\n",
       "      <td>250000</td>\n",
       "      <td>46000</td>\n",
       "      <td>Petrol</td>\n",
       "      <td>Individual</td>\n",
       "      <td>Manual</td>\n",
       "      <td>First Owner</td>\n",
       "    </tr>\n",
       "    <tr>\n",
       "      <th>4</th>\n",
       "      <td>Honda Amaze VX i-DTEC</td>\n",
       "      <td>2014</td>\n",
       "      <td>450000</td>\n",
       "      <td>141000</td>\n",
       "      <td>Diesel</td>\n",
       "      <td>Individual</td>\n",
       "      <td>Manual</td>\n",
       "      <td>Second Owner</td>\n",
       "    </tr>\n",
       "  </tbody>\n",
       "</table>\n",
       "</div>"
      ],
      "text/plain": [
       "                       name  year  selling_price  km_driven    fuel  \\\n",
       "0             Maruti 800 AC  2007          60000      70000  Petrol   \n",
       "1  Maruti Wagon R LXI Minor  2007         135000      50000  Petrol   \n",
       "2      Hyundai Verna 1.6 SX  2012         600000     100000  Diesel   \n",
       "3    Datsun RediGO T Option  2017         250000      46000  Petrol   \n",
       "4     Honda Amaze VX i-DTEC  2014         450000     141000  Diesel   \n",
       "\n",
       "  seller_type transmission         owner  \n",
       "0  Individual       Manual   First Owner  \n",
       "1  Individual       Manual   First Owner  \n",
       "2  Individual       Manual   First Owner  \n",
       "3  Individual       Manual   First Owner  \n",
       "4  Individual       Manual  Second Owner  "
      ]
     },
     "execution_count": 2,
     "metadata": {},
     "output_type": "execute_result"
    }
   ],
   "source": [
    "df.head()"
   ]
  },
  {
   "cell_type": "code",
   "execution_count": 3,
   "id": "817c1d2a",
   "metadata": {},
   "outputs": [
    {
     "data": {
      "text/plain": [
       "(4340, 8)"
      ]
     },
     "execution_count": 3,
     "metadata": {},
     "output_type": "execute_result"
    }
   ],
   "source": [
    "df.shape"
   ]
  },
  {
   "cell_type": "code",
   "execution_count": 4,
   "id": "3d0c5971",
   "metadata": {},
   "outputs": [
    {
     "data": {
      "text/plain": [
       "name             0\n",
       "year             0\n",
       "selling_price    0\n",
       "km_driven        0\n",
       "fuel             0\n",
       "seller_type      0\n",
       "transmission     0\n",
       "owner            0\n",
       "dtype: int64"
      ]
     },
     "execution_count": 4,
     "metadata": {},
     "output_type": "execute_result"
    }
   ],
   "source": [
    "df.isnull().sum()"
   ]
  },
  {
   "cell_type": "markdown",
   "id": "2da7d27f",
   "metadata": {},
   "source": [
    "### Deriving Age from the year and drop unnecessary column"
   ]
  },
  {
   "cell_type": "code",
   "execution_count": 5,
   "id": "8f5f57a3",
   "metadata": {},
   "outputs": [
    {
     "data": {
      "text/html": [
       "<div>\n",
       "<style scoped>\n",
       "    .dataframe tbody tr th:only-of-type {\n",
       "        vertical-align: middle;\n",
       "    }\n",
       "\n",
       "    .dataframe tbody tr th {\n",
       "        vertical-align: top;\n",
       "    }\n",
       "\n",
       "    .dataframe thead th {\n",
       "        text-align: right;\n",
       "    }\n",
       "</style>\n",
       "<table border=\"1\" class=\"dataframe\">\n",
       "  <thead>\n",
       "    <tr style=\"text-align: right;\">\n",
       "      <th></th>\n",
       "      <th>selling_price</th>\n",
       "      <th>km_driven</th>\n",
       "      <th>fuel</th>\n",
       "      <th>seller_type</th>\n",
       "      <th>transmission</th>\n",
       "      <th>owner</th>\n",
       "      <th>age</th>\n",
       "    </tr>\n",
       "  </thead>\n",
       "  <tbody>\n",
       "    <tr>\n",
       "      <th>0</th>\n",
       "      <td>60000</td>\n",
       "      <td>70000</td>\n",
       "      <td>Petrol</td>\n",
       "      <td>Individual</td>\n",
       "      <td>Manual</td>\n",
       "      <td>First Owner</td>\n",
       "      <td>16</td>\n",
       "    </tr>\n",
       "    <tr>\n",
       "      <th>1</th>\n",
       "      <td>135000</td>\n",
       "      <td>50000</td>\n",
       "      <td>Petrol</td>\n",
       "      <td>Individual</td>\n",
       "      <td>Manual</td>\n",
       "      <td>First Owner</td>\n",
       "      <td>16</td>\n",
       "    </tr>\n",
       "    <tr>\n",
       "      <th>2</th>\n",
       "      <td>600000</td>\n",
       "      <td>100000</td>\n",
       "      <td>Diesel</td>\n",
       "      <td>Individual</td>\n",
       "      <td>Manual</td>\n",
       "      <td>First Owner</td>\n",
       "      <td>11</td>\n",
       "    </tr>\n",
       "    <tr>\n",
       "      <th>3</th>\n",
       "      <td>250000</td>\n",
       "      <td>46000</td>\n",
       "      <td>Petrol</td>\n",
       "      <td>Individual</td>\n",
       "      <td>Manual</td>\n",
       "      <td>First Owner</td>\n",
       "      <td>6</td>\n",
       "    </tr>\n",
       "    <tr>\n",
       "      <th>4</th>\n",
       "      <td>450000</td>\n",
       "      <td>141000</td>\n",
       "      <td>Diesel</td>\n",
       "      <td>Individual</td>\n",
       "      <td>Manual</td>\n",
       "      <td>Second Owner</td>\n",
       "      <td>9</td>\n",
       "    </tr>\n",
       "  </tbody>\n",
       "</table>\n",
       "</div>"
      ],
      "text/plain": [
       "   selling_price  km_driven    fuel seller_type transmission         owner  \\\n",
       "0          60000      70000  Petrol  Individual       Manual   First Owner   \n",
       "1         135000      50000  Petrol  Individual       Manual   First Owner   \n",
       "2         600000     100000  Diesel  Individual       Manual   First Owner   \n",
       "3         250000      46000  Petrol  Individual       Manual   First Owner   \n",
       "4         450000     141000  Diesel  Individual       Manual  Second Owner   \n",
       "\n",
       "   age  \n",
       "0   16  \n",
       "1   16  \n",
       "2   11  \n",
       "3    6  \n",
       "4    9  "
      ]
     },
     "execution_count": 5,
     "metadata": {},
     "output_type": "execute_result"
    }
   ],
   "source": [
    "import datetime\n",
    "final_dataframe = df.copy()\n",
    "current_year = datetime.datetime.now().year\n",
    "final_dataframe['age'] = current_year - final_dataframe['year']\n",
    "final_dataframe.drop(['year'], axis=1, inplace=True)\n",
    "final_dataframe.drop(['name'], axis=1, inplace=True)\n",
    "final_dataframe.head()"
   ]
  },
  {
   "cell_type": "markdown",
   "id": "ebc95e0d",
   "metadata": {},
   "source": [
    "### Creating dummy variables for text values"
   ]
  },
  {
   "cell_type": "code",
   "execution_count": 6,
   "id": "6f1e6892",
   "metadata": {},
   "outputs": [
    {
     "name": "stdout",
     "output_type": "stream",
     "text": [
      "['Petrol' 'Diesel' 'CNG' 'LPG' 'Electric']\n",
      "['Individual' 'Dealer' 'Trustmark Dealer']\n",
      "['Manual' 'Automatic']\n",
      "['First Owner' 'Second Owner' 'Fourth & Above Owner' 'Third Owner'\n",
      " 'Test Drive Car']\n"
     ]
    }
   ],
   "source": [
    "print(df['fuel'].unique())\n",
    "print(df['seller_type'].unique())\n",
    "print(df['transmission'].unique())\n",
    "print(df['owner'].unique())"
   ]
  },
  {
   "cell_type": "code",
   "execution_count": 7,
   "id": "572f638a",
   "metadata": {},
   "outputs": [
    {
     "data": {
      "text/html": [
       "<div>\n",
       "<style scoped>\n",
       "    .dataframe tbody tr th:only-of-type {\n",
       "        vertical-align: middle;\n",
       "    }\n",
       "\n",
       "    .dataframe tbody tr th {\n",
       "        vertical-align: top;\n",
       "    }\n",
       "\n",
       "    .dataframe thead th {\n",
       "        text-align: right;\n",
       "    }\n",
       "</style>\n",
       "<table border=\"1\" class=\"dataframe\">\n",
       "  <thead>\n",
       "    <tr style=\"text-align: right;\">\n",
       "      <th></th>\n",
       "      <th>selling_price</th>\n",
       "      <th>km_driven</th>\n",
       "      <th>age</th>\n",
       "      <th>fuel_Diesel</th>\n",
       "      <th>fuel_Electric</th>\n",
       "      <th>fuel_LPG</th>\n",
       "      <th>fuel_Petrol</th>\n",
       "      <th>seller_type_Individual</th>\n",
       "      <th>seller_type_Trustmark Dealer</th>\n",
       "      <th>transmission_Manual</th>\n",
       "      <th>owner_Fourth &amp; Above Owner</th>\n",
       "      <th>owner_Second Owner</th>\n",
       "      <th>owner_Test Drive Car</th>\n",
       "      <th>owner_Third Owner</th>\n",
       "    </tr>\n",
       "  </thead>\n",
       "  <tbody>\n",
       "    <tr>\n",
       "      <th>0</th>\n",
       "      <td>60000</td>\n",
       "      <td>70000</td>\n",
       "      <td>16</td>\n",
       "      <td>0</td>\n",
       "      <td>0</td>\n",
       "      <td>0</td>\n",
       "      <td>1</td>\n",
       "      <td>1</td>\n",
       "      <td>0</td>\n",
       "      <td>1</td>\n",
       "      <td>0</td>\n",
       "      <td>0</td>\n",
       "      <td>0</td>\n",
       "      <td>0</td>\n",
       "    </tr>\n",
       "    <tr>\n",
       "      <th>1</th>\n",
       "      <td>135000</td>\n",
       "      <td>50000</td>\n",
       "      <td>16</td>\n",
       "      <td>0</td>\n",
       "      <td>0</td>\n",
       "      <td>0</td>\n",
       "      <td>1</td>\n",
       "      <td>1</td>\n",
       "      <td>0</td>\n",
       "      <td>1</td>\n",
       "      <td>0</td>\n",
       "      <td>0</td>\n",
       "      <td>0</td>\n",
       "      <td>0</td>\n",
       "    </tr>\n",
       "    <tr>\n",
       "      <th>2</th>\n",
       "      <td>600000</td>\n",
       "      <td>100000</td>\n",
       "      <td>11</td>\n",
       "      <td>1</td>\n",
       "      <td>0</td>\n",
       "      <td>0</td>\n",
       "      <td>0</td>\n",
       "      <td>1</td>\n",
       "      <td>0</td>\n",
       "      <td>1</td>\n",
       "      <td>0</td>\n",
       "      <td>0</td>\n",
       "      <td>0</td>\n",
       "      <td>0</td>\n",
       "    </tr>\n",
       "    <tr>\n",
       "      <th>3</th>\n",
       "      <td>250000</td>\n",
       "      <td>46000</td>\n",
       "      <td>6</td>\n",
       "      <td>0</td>\n",
       "      <td>0</td>\n",
       "      <td>0</td>\n",
       "      <td>1</td>\n",
       "      <td>1</td>\n",
       "      <td>0</td>\n",
       "      <td>1</td>\n",
       "      <td>0</td>\n",
       "      <td>0</td>\n",
       "      <td>0</td>\n",
       "      <td>0</td>\n",
       "    </tr>\n",
       "    <tr>\n",
       "      <th>4</th>\n",
       "      <td>450000</td>\n",
       "      <td>141000</td>\n",
       "      <td>9</td>\n",
       "      <td>1</td>\n",
       "      <td>0</td>\n",
       "      <td>0</td>\n",
       "      <td>0</td>\n",
       "      <td>1</td>\n",
       "      <td>0</td>\n",
       "      <td>1</td>\n",
       "      <td>0</td>\n",
       "      <td>1</td>\n",
       "      <td>0</td>\n",
       "      <td>0</td>\n",
       "    </tr>\n",
       "  </tbody>\n",
       "</table>\n",
       "</div>"
      ],
      "text/plain": [
       "   selling_price  km_driven  age  fuel_Diesel  fuel_Electric  fuel_LPG  \\\n",
       "0          60000      70000   16            0              0         0   \n",
       "1         135000      50000   16            0              0         0   \n",
       "2         600000     100000   11            1              0         0   \n",
       "3         250000      46000    6            0              0         0   \n",
       "4         450000     141000    9            1              0         0   \n",
       "\n",
       "   fuel_Petrol  seller_type_Individual  seller_type_Trustmark Dealer  \\\n",
       "0            1                       1                             0   \n",
       "1            1                       1                             0   \n",
       "2            0                       1                             0   \n",
       "3            1                       1                             0   \n",
       "4            0                       1                             0   \n",
       "\n",
       "   transmission_Manual  owner_Fourth & Above Owner  owner_Second Owner  \\\n",
       "0                    1                           0                   0   \n",
       "1                    1                           0                   0   \n",
       "2                    1                           0                   0   \n",
       "3                    1                           0                   0   \n",
       "4                    1                           0                   1   \n",
       "\n",
       "   owner_Test Drive Car  owner_Third Owner  \n",
       "0                     0                  0  \n",
       "1                     0                  0  \n",
       "2                     0                  0  \n",
       "3                     0                  0  \n",
       "4                     0                  0  "
      ]
     },
     "execution_count": 7,
     "metadata": {},
     "output_type": "execute_result"
    }
   ],
   "source": [
    "final_dataframe = pd.get_dummies(final_dataframe, drop_first=True)\n",
    "# it is just converting all these textual attributes into some binary values\n",
    "# drop first is true because we want to avoid dummy variable trap\n",
    "final_dataframe.head()"
   ]
  },
  {
   "cell_type": "markdown",
   "id": "fdfa06f5",
   "metadata": {},
   "source": [
    "### Checking the histogram, Scatter Plot & Correlations"
   ]
  },
  {
   "cell_type": "code",
   "execution_count": null,
   "id": "c38b86c5",
   "metadata": {},
   "outputs": [
    {
     "data": {
      "text/plain": [
       "array([[<AxesSubplot: title={'center': 'selling_price'}>,\n",
       "        <AxesSubplot: title={'center': 'km_driven'}>,\n",
       "        <AxesSubplot: title={'center': 'age'}>,\n",
       "        <AxesSubplot: title={'center': 'fuel_Diesel'}>],\n",
       "       [<AxesSubplot: title={'center': 'fuel_Electric'}>,\n",
       "        <AxesSubplot: title={'center': 'fuel_LPG'}>,\n",
       "        <AxesSubplot: title={'center': 'fuel_Petrol'}>,\n",
       "        <AxesSubplot: title={'center': 'seller_type_Individual'}>],\n",
       "       [<AxesSubplot: title={'center': 'seller_type_Trustmark Dealer'}>,\n",
       "        <AxesSubplot: title={'center': 'transmission_Manual'}>,\n",
       "        <AxesSubplot: title={'center': 'owner_Fourth & Above Owner'}>,\n",
       "        <AxesSubplot: title={'center': 'owner_Second Owner'}>],\n",
       "       [<AxesSubplot: title={'center': 'owner_Test Drive Car'}>,\n",
       "        <AxesSubplot: title={'center': 'owner_Third Owner'}>,\n",
       "        <AxesSubplot: >, <AxesSubplot: >]], dtype=object)"
      ]
     },
     "execution_count": 8,
     "metadata": {},
     "output_type": "execute_result"
    }
   ],
   "source": [
    "final_dataframe.hist(bins = 50, figsize = (20, 15))"
   ]
  },
  {
   "cell_type": "code",
   "execution_count": null,
   "id": "1590271c",
   "metadata": {},
   "outputs": [],
   "source": [
    "cols = final_dataframe.columns\n",
    "cols\n",
    "for i in cols:\n",
    "    if i == \"selling_price\":\n",
    "        continue\n",
    "    final_dataframe.plot(kind = \"scatter\", x = i, y = \"selling_price\", alpha = 0.8)\n"
   ]
  },
  {
   "cell_type": "code",
   "execution_count": null,
   "id": "3d04e28a",
   "metadata": {},
   "outputs": [],
   "source": [
    "corr_matrix = final_dataframe.corr()\n",
    "# correlation shomanupatik naki bestanupatik oita dekhabe\n",
    "corr_matrix['selling_price'].sort_values(ascending=False)\n",
    "# eita MEDV er shapekkhe correlation dekhabe"
   ]
  },
  {
   "cell_type": "markdown",
   "id": "e5025af4",
   "metadata": {},
   "source": [
    "### Stratified Train Test Split\n",
    "\n",
    "the dummy variables need to be split strategically"
   ]
  },
  {
   "cell_type": "code",
   "execution_count": null,
   "id": "6b3a70d3",
   "metadata": {},
   "outputs": [],
   "source": [
    "dummy_cols = final_dataframe.filter(regex='fuel_|seller_type_|transmission_|owner_').columns.tolist()\n",
    "dummy_cols"
   ]
  },
  {
   "cell_type": "code",
   "execution_count": null,
   "id": "f9054999",
   "metadata": {
    "scrolled": true
   },
   "outputs": [],
   "source": [
    "from sklearn.model_selection import StratifiedShuffleSplit\n",
    "ssp = StratifiedShuffleSplit(n_splits=1, test_size=0.2, random_state=42)\n",
    "\n",
    "# fuel_Electric\n",
    "\n",
    "dummy_columns = ['fuel_Diesel',\n",
    " 'fuel_LPG',\n",
    " 'fuel_Petrol',\n",
    " 'seller_type_Trustmark Dealer',\n",
    " 'owner_Second Owner',\n",
    " 'owner_Test Drive Car',\n",
    " 'owner_Third Owner',\n",
    "]\n",
    "\n",
    "for train_index, test_index in ssp.split(final_dataframe, final_dataframe[dummy_columns]):\n",
    "    strat_train_set = final_dataframe.loc[train_index]\n",
    "    strat_test_set = final_dataframe.loc[test_index]"
   ]
  },
  {
   "cell_type": "code",
   "execution_count": null,
   "id": "1280f718",
   "metadata": {},
   "outputs": [],
   "source": [
    "strat_train_set['transmission_Manual'].value_counts()"
   ]
  },
  {
   "cell_type": "code",
   "execution_count": null,
   "id": "880de58a",
   "metadata": {},
   "outputs": [],
   "source": [
    "strat_test_set['transmission_Manual'].value_counts()"
   ]
  },
  {
   "cell_type": "markdown",
   "id": "d2c4552d",
   "metadata": {},
   "source": [
    "### Creating a Pipeline"
   ]
  },
  {
   "cell_type": "code",
   "execution_count": null,
   "id": "7c7b1dae",
   "metadata": {},
   "outputs": [],
   "source": [
    "from sklearn.pipeline import Pipeline\n",
    "from sklearn.preprocessing import StandardScaler\n",
    "from sklearn.impute import SimpleImputer\n",
    "my_pipeline = Pipeline([\n",
    "    ('imputer', SimpleImputer(strategy=\"median\")),\n",
    "])\n",
    "final_train_set = my_pipeline.fit_transform(strat_train_set)\n",
    "# it returns a numpy array not a pandas dataframe\n",
    "# so I'm converting test set to numpy array as well\n",
    "final_train_set\n",
    "final_test_set = strat_test_set.values"
   ]
  },
  {
   "cell_type": "markdown",
   "id": "e292bcd0",
   "metadata": {},
   "source": [
    "### Feature-Label Split"
   ]
  },
  {
   "cell_type": "code",
   "execution_count": null,
   "id": "aa620e30",
   "metadata": {},
   "outputs": [],
   "source": [
    "# Assume final_train_set is a NumPy array containing both features and target variable\n",
    "import numpy as np\n",
    "# Get the index of the target variable column\n",
    "target_index = 2  # Assuming the target variable is the third column\n",
    "\n",
    "# Split the data into features and target variables\n",
    "X_train_before = final_train_set[:, :target_index]  # Select all columns before the target column\n",
    "X_train_after = final_train_set[:, target_index+1:]  # Select all columns after the target column\n",
    "X_train = np.hstack((X_train_before, X_train_after))  # Combine the two sets of feature columns\n",
    "y_train = final_train_set[:, target_index]  # Select only the target column\n",
    "\n",
    "\n",
    "# Split the data into features and target variables\n",
    "X_test_before = final_test_set[:, :target_index]  # Select all columns before the target column\n",
    "X_test_after = final_test_set[:, target_index+1:]  # Select all columns after the target column\n",
    "X_test = np.hstack((X_test_before, X_test_after))  # Combine the two sets of feature columns\n",
    "y_test = final_test_set[:, target_index]  # Select only the target column\n"
   ]
  },
  {
   "cell_type": "markdown",
   "id": "6120da8c",
   "metadata": {},
   "source": [
    "### Evaluating Different Models"
   ]
  },
  {
   "cell_type": "code",
   "execution_count": null,
   "id": "20cb91f5",
   "metadata": {},
   "outputs": [],
   "source": [
    "from sklearn.metrics import mean_squared_error, r2_score\n",
    "\n",
    "def evaluate(model, X, y):\n",
    "    # Make predictions on the data\n",
    "    y_pred = model.predict(X)\n",
    "\n",
    "    # Calculate the mean squared error\n",
    "    mse = mean_squared_error(y, y_pred)\n",
    "\n",
    "    # Calculate the R-squared score\n",
    "    r2 = r2_score(y, y_pred)\n",
    "    \n",
    "    # Calculate the standard deviation of the residuals\n",
    "    std_dev = np.std(y - y_pred)\n",
    "\n",
    "    return mse, r2, std_dev\n"
   ]
  },
  {
   "cell_type": "code",
   "execution_count": null,
   "id": "b7674480",
   "metadata": {},
   "outputs": [],
   "source": [
    "from sklearn.model_selection import cross_val_score\n",
    "from sklearn.metrics import mean_squared_error\n",
    "\n",
    "def evaluate_with_cv(model, X, y):\n",
    "    # Calculate cross-validation scores\n",
    "    scores = cross_val_score(model, X, y, scoring='neg_mean_squared_error', cv=10)\n",
    "    cv_mse = -scores.mean()\n",
    "    cv_std_dev = scores.std()\n",
    "\n",
    "    # Fit the model to the full training data\n",
    "    model.fit(X, y)\n",
    "\n",
    "    # Make predictions on the test data\n",
    "    y_pred = model.predict(X)\n",
    "\n",
    "    return cv_mse, cv_std_dev"
   ]
  },
  {
   "cell_type": "code",
   "execution_count": null,
   "id": "f528ba08",
   "metadata": {},
   "outputs": [],
   "source": [
    "from sklearn.linear_model import LinearRegression\n",
    "from sklearn.tree import DecisionTreeRegressor\n",
    "from sklearn.ensemble import RandomForestRegressor\n",
    "from sklearn.metrics import mean_squared_error, r2_score\n",
    "\n",
    "def evaluate_models(X_train, y_train, X_test, y_test):\n",
    "\n",
    "    models = [\n",
    "        LinearRegression(),\n",
    "        DecisionTreeRegressor(),\n",
    "        RandomForestRegressor()\n",
    "    ]\n",
    "    \n",
    "    for model in models:\n",
    "        # Fit the model to the training data\n",
    "        model.fit(X_train, y_train)\n",
    "\n",
    "        # Evaluate the model on the testing data\n",
    "        mse, r2, std_dev = evaluate(model, X_test, y_test)\n",
    "\n",
    "        # Evaluate the model with cross-validation and on the test data\n",
    "        cv_mse, cv_std_dev = evaluate_with_cv(model, X_train, y_train)\n",
    "        # Write the evaluation results to the file\n",
    "        print(\"{}:\\n\".format(type(model).__name__))\n",
    "        print(\"  Mean squared error: {:.2f}\\n\".format(mse))\n",
    "        print(\"  R-squared score: {:.2f}\\n\".format(r2))\n",
    "        print(\"  Standard deviation of residuals: {:.2f}\\n\".format(std_dev))\n",
    "        print(\"  Cross-validation mean squared error: {:.2f}\\n\".format(cv_mse))\n",
    "        print(\"  Cross-validation standard deviation: {:.2f}\\n\\n\".format(cv_std_dev))       "
   ]
  },
  {
   "cell_type": "code",
   "execution_count": null,
   "id": "16f514a3",
   "metadata": {},
   "outputs": [],
   "source": [
    "evaluate_models(X_train, y_train, X_test, y_test)"
   ]
  },
  {
   "cell_type": "markdown",
   "id": "824baa16",
   "metadata": {},
   "source": [
    "### Export the Best Model"
   ]
  },
  {
   "cell_type": "code",
   "execution_count": null,
   "id": "4743d8cd",
   "metadata": {},
   "outputs": [],
   "source": [
    "from joblib import dump, load\n",
    "\n",
    "model = RandomForestRegressor()\n",
    "model.fit(X_train, y_train)\n",
    "dump(model, 'car_prediction_model.joblib')"
   ]
  }
 ],
 "metadata": {
  "kernelspec": {
   "display_name": "Python 3 (ipykernel)",
   "language": "python",
   "name": "python3"
  },
  "language_info": {
   "codemirror_mode": {
    "name": "ipython",
    "version": 3
   },
   "file_extension": ".py",
   "mimetype": "text/x-python",
   "name": "python",
   "nbconvert_exporter": "python",
   "pygments_lexer": "ipython3",
   "version": "3.11.1"
  }
 },
 "nbformat": 4,
 "nbformat_minor": 5
}
